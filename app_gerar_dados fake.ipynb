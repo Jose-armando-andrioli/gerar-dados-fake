{
 "cells": [
  {
   "cell_type": "code",
   "execution_count": 17,
   "metadata": {},
   "outputs": [],
   "source": [
    "# !pip install faker"
   ]
  },
  {
   "cell_type": "code",
   "execution_count": 18,
   "metadata": {},
   "outputs": [],
   "source": [
    "import json"
   ]
  },
  {
   "cell_type": "code",
   "execution_count": 19,
   "metadata": {},
   "outputs": [],
   "source": [
    "from faker import Faker"
   ]
  },
  {
   "cell_type": "code",
   "execution_count": 20,
   "metadata": {},
   "outputs": [],
   "source": [
    "import random"
   ]
  },
  {
   "cell_type": "code",
   "execution_count": 21,
   "metadata": {},
   "outputs": [],
   "source": [
    "fake = Faker()"
   ]
  },
  {
   "cell_type": "code",
   "execution_count": 55,
   "metadata": {},
   "outputs": [],
   "source": [
    "for i in range(1, 11):\n",
    "    data =[{\n",
    "        'name': fake.name(),\n",
    "        'address': fake.address(),\n",
    "        'email': fake.email(),\n",
    "        'phone_number': fake.phone_number(),\n",
    "        'job': fake.job(),\n",
    "        'age': random.randint(18, 65),\n",
    "        'company':fake.company(),\n",
    "        'credit_card_number': fake.credit_card_number(),\n",
    "        'date_joined': str(fake.date_this_decade())\n",
    "    }]\n",
    "\n",
    "    with open(f'C:/Users/Armando/Documents/python/gerar dados fake/data{i}.json','w') as f:\n",
    "        json.dump(data, f, indent=4)\n",
    " "
   ]
  },
  {
   "cell_type": "code",
   "execution_count": 57,
   "metadata": {},
   "outputs": [
    {
     "name": "stdout",
     "output_type": "stream",
     "text": [
      "Arquivos criados com Sucesso!\n"
     ]
    }
   ],
   "source": [
    "       print('Arquivos criados com Sucesso!')"
   ]
  },
  {
   "cell_type": "code",
   "execution_count": null,
   "metadata": {},
   "outputs": [],
   "source": []
  }
 ],
 "metadata": {
  "kernelspec": {
   "display_name": "Python 3.8.8rc1 64-bit",
   "language": "python",
   "name": "python3"
  },
  "language_info": {
   "codemirror_mode": {
    "name": "ipython",
    "version": 3
   },
   "file_extension": ".py",
   "mimetype": "text/x-python",
   "name": "python",
   "nbconvert_exporter": "python",
   "pygments_lexer": "ipython3",
   "version": "3.8.8rc1"
  },
  "orig_nbformat": 4,
  "vscode": {
   "interpreter": {
    "hash": "238b46e0293d5aae94d53491dad1a4b27fcb6d972598694582f60103247f4dec"
   }
  }
 },
 "nbformat": 4,
 "nbformat_minor": 2
}
